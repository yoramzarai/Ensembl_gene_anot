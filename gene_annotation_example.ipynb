{
 "cells": [
  {
   "cell_type": "markdown",
   "metadata": {},
   "source": [
    "# Gene Annotation Usage Example\n",
    "This notebook provides gene annotation examples, using the `Gene_cls` or `Gene_gff3_cls` classes from `Gene_annotation.py`.\n",
    "\n",
    "The underlying data is the Ensembl GFF3 annotation file from [Ensembl gene annotation GFF3 file](https://useast.ensembl.org/Homo_sapiens/Info/Index).\n",
    "\n",
    "Requirements: Python >= 3.10, Pandas, and Numpy. In addition, add \n",
    "\n",
    "`export PYTHONPATH=\"$PYTHONPATH:/tamir2/yoramzar/Projects/Cancer_mut/Utils\"` \n",
    "\n",
    "to your `.bashrc`."
   ]
  },
  {
   "cell_type": "code",
   "execution_count": 1,
   "metadata": {},
   "outputs": [],
   "source": [
    "'''\n",
    "Global configuration.\n",
    "'''\n",
    "import pathlib\n",
    "\n",
    "# make sure PYTHONPATH is set, containing the Utils folder.\n",
    "import mysys_init as si\n",
    "\n",
    "# API\n",
    "import Gene_annotation as gaut\n",
    "\n",
    "# set folder to create reports\n",
    "report_path = pathlib.Path(si.ROOT_path) / 'Ensembl_gene_anot' / 'Reports'"
   ]
  },
  {
   "cell_type": "markdown",
   "metadata": {},
   "source": [
    "# Example - by Gene Name\n",
    "\n",
    "We use the gene name to instantiate a `Gene_cls` object, which provides the gene's annotation.\n"
   ]
  },
  {
   "cell_type": "code",
   "execution_count": 2,
   "metadata": {},
   "outputs": [
    {
     "name": "stdout",
     "output_type": "stream",
     "text": [
      "Loading /Users/yoramzarai/work/mystuff/Ramot/Projects/Cancer_mut/Data/Ensembl_gene_annotation/Homo_sapiens.GRCh38.113.gff3.gz to a dataframe...Done.\n"
     ]
    }
   ],
   "source": [
    "'''\n",
    "Select a gene and a corresponding transcript.\n",
    "\n",
    "gene can be either a gene name (e.g. 'PIK3CA') or a gene ID (e.g. 'ENSG00000138641') \n",
    "'''\n",
    "#gene, transcript_id = 'FLT3', 'ENST00000241453'\n",
    "\n",
    "#gene, transcript_id = 'EGFR', 'ENST00000275493'\n",
    "#gene, transcript_id = 'ENSG00000146648', 'ENST00000275493'\n",
    "gene, transcript_id = 'IDH1', 'ENST00000345146'\n",
    "#gene, transcript_id = 'PIK3CA', 'ENST00000263967'\n",
    "\n",
    "#gene, transcript_id = 'ENSG00000290826', 'ENST00000642116'  # example of a ncRNA gene ()\n",
    "\n",
    "#gene, transcript_id = 'PIK3C2A', 'ENST00000533645'\n",
    "#gene, transcript_id = 'KLF16', 'ENST00000250916'\n",
    "\n",
    "#gene, transcript_id = 'ENSG00000290149', 'ENST00000476620'\n",
    "# ---------------------------------------------------------\n",
    "\n",
    "gene_obj = gaut.Gene_cls(gene)\n",
    "#gene_obj = gaut.Gene_cls(gene, verbose=False)"
   ]
  },
  {
   "cell_type": "code",
   "execution_count": 3,
   "metadata": {},
   "outputs": [
    {
     "name": "stdout",
     "output_type": "stream",
     "text": [
      "\n",
      "gene='IDH1' information:\n",
      "Gene=IDH1, Gene name=IDH1, Gene ID=ENSG00000138413\n",
      "Source=/Users/yoramzarai/work/mystuff/Ramot/Projects/Cancer_mut/Data/Ensembl_gene_annotation/Homo_sapiens.GRCh38.113.gff3.gz\n",
      "Positive strand=False.\n",
      "Type=protein_coding, version=14.\n",
      "Description=isocitrate dehydrogenase (NADP(+)) 1 [Source:HGNC Symbol%3BAcc:HGNC:5382]\n",
      "Gene region=chr2:208,236,229-208,266,074.\n",
      "9 transcripts.\n",
      "\n",
      "IDH1 contains 9 transcripts.\n",
      "IDH1 transcript IDs:\n",
      "1. ENST00000345146\n",
      "2. ENST00000446179\n",
      "3. ENST00000415913\n",
      "4. ENST00000484575\n",
      "5. ENST00000415282\n",
      "6. ENST00000462386\n",
      "7. ENST00000417583\n",
      "8. ENST00000451391\n",
      "9. ENST00000481557\n",
      "\n",
      "Gene start = 208,236,229, gene end = 208,266,074\n",
      "\n",
      "transcript_id='ENST00000345146': start site (TSS) = 208,255,071, end site (TES) = 208,236,229.\n",
      "\n",
      "First bp of the Start codon located in chr2:208,251,551, and is bp #224 in the RNA.\n",
      "First bp of the Stop codon located in chr2:208,237,081, and is bp #1466 in the RNA.\n"
     ]
    }
   ],
   "source": [
    "\"\"\"\n",
    "General information\n",
    "\"\"\"\n",
    "print(f\"\\n{gene=} information:\")\n",
    "gene_obj.info()\n",
    "\n",
    "print(f\"\\n{gene} contains {len(gene_obj)} transcripts.\")\n",
    "gene_obj.show_all_transcript_IDs()\n",
    "\n",
    "print(f\"\\nGene start = {gene_obj.gene_start:,}, gene end = {gene_obj.gene_end:,}\")\n",
    "\n",
    "(ts, te) = gene_obj.transcript_boundaries(transcript_id)\n",
    "print(f\"\\n{transcript_id=}: start site (TSS) = {ts:,}, end site (TES) = {te:,}.\")\n",
    "\n",
    "# start and stop codons positions\n",
    "if (codons_info := gene_obj.start_and_stop_codons_pos(transcript_id)) is not None:\n",
    "    print(f\"\\nFirst bp of the Start codon located in chr{gene_obj.chrm}:{codons_info[0][0]:,}, and is bp #{codons_info[0][1]} in the RNA.\")\n",
    "    print(f\"First bp of the Stop codon located in chr{gene_obj.chrm}:{codons_info[1][0]:,}, and is bp #{codons_info[1][1]} in the RNA.\")"
   ]
  },
  {
   "cell_type": "code",
   "execution_count": 4,
   "metadata": {},
   "outputs": [
    {
     "name": "stdout",
     "output_type": "stream",
     "text": [
      "Detailed transcript_id='ENST00000345146' information:\n",
      "ENST00000345146 information:\n",
      "Name=IDH1-201, ID=ENST00000345146.7, version=7\n",
      "Type=mRNA, biotype=protein_coding\n",
      "Start=208,255,071, end=208,236,229\n",
      "protein ID = ENSP00000260985\n",
      "ccdsid=CCDS2381.1\n",
      "ORF start offset = 223, ORF end offset = 1,467 (0-based offsets from the beginning of the RNA)\n",
      "ORF start chromosome position = 208,251,551, ORF end chromosome position = 208,237,079\n",
      "Exon regions:\n",
      "\t1. 208,255,071 - 208,254,939, ID=ENSE00001908890, phase=-1, end phase=-1\n",
      "\t2. 208,253,959 - 208,253,886, ID=ENSE00001357891, phase=-1, end phase=-1\n",
      "\t3. 208,251,567 - 208,251,430, ID=ENSE00003564564, phase=-1, end phase=2\n",
      "\t4. 208,248,660 - 208,248,369, ID=ENSE00000934687, phase=2, end phase=0\n",
      "\t5. 208,245,424 - 208,245,319, ID=ENSE00002416886, phase=0, end phase=1\n",
      "\t6. 208,243,604 - 208,243,427, ID=ENSE00002424476, phase=1, end phase=2\n",
      "\t7. 208,242,145 - 208,241,994, ID=ENSE00000934684, phase=2, end phase=1\n",
      "\t8. 208,240,003 - 208,239,863, ID=ENSE00000934683, phase=1, end phase=1\n",
      "\t9. 208,239,233 - 208,239,071, ID=ENSE00003511233, phase=1, end phase=2\n",
      "\t10. 208,237,169 - 208,236,229, ID=ENSE00000934681, phase=2, end phase=-1\n",
      "CDS regions:\n",
      "\t1. 208,251,551 - 208,251,430, phase=0\n",
      "\t2. 208,248,660 - 208,248,369, phase=1\n",
      "\t3. 208,245,424 - 208,245,319, phase=0\n",
      "\t4. 208,243,604 - 208,243,427, phase=2\n",
      "\t5. 208,242,145 - 208,241,994, phase=1\n",
      "\t6. 208,240,003 - 208,239,863, phase=2\n",
      "\t7. 208,239,233 - 208,239,071, phase=2\n",
      "\t8. 208,237,169 - 208,237,079, phase=1\n",
      "5UTR regions:\n",
      "\t1. 208,255,071 - 208,254,939\n",
      "\t2. 208,253,959 - 208,253,886\n",
      "\t3. 208,251,567 - 208,251,552\n",
      "3UTR regions:\n",
      "\t1. 208,237,078 - 208,236,229\n"
     ]
    }
   ],
   "source": [
    "# get a detailed information about a transcript\n",
    "print(f\"Detailed {transcript_id=} information:\")\n",
    "gene_obj.transcript_info(transcript_id, verbose=True)"
   ]
  },
  {
   "cell_type": "markdown",
   "metadata": {},
   "source": [
    "Regarding the exon phases see [this](https://blog.gene-test.com/coding-phases-frames/). Basically:\n",
    "1. exon end phase is the exon phase of the next exon.\n",
    "2. Conversion from exon phase to CDS phase: 0-->0, 1-->2, 2-->1."
   ]
  },
  {
   "cell_type": "code",
   "execution_count": 5,
   "metadata": {},
   "outputs": [
    {
     "name": "stdout",
     "output_type": "stream",
     "text": [
      "\n",
      "Exon-intron map for transcript_id='ENST00000345146':\n"
     ]
    },
    {
     "data": {
      "text/html": [
       "<div>\n",
       "<style scoped>\n",
       "    .dataframe tbody tr th:only-of-type {\n",
       "        vertical-align: middle;\n",
       "    }\n",
       "\n",
       "    .dataframe tbody tr th {\n",
       "        vertical-align: top;\n",
       "    }\n",
       "\n",
       "    .dataframe thead th {\n",
       "        text-align: right;\n",
       "    }\n",
       "</style>\n",
       "<table border=\"1\" class=\"dataframe\">\n",
       "  <thead>\n",
       "    <tr style=\"text-align: right;\">\n",
       "      <th></th>\n",
       "      <th>name</th>\n",
       "      <th>region</th>\n",
       "      <th>region_size</th>\n",
       "    </tr>\n",
       "  </thead>\n",
       "  <tbody>\n",
       "    <tr>\n",
       "      <th>0</th>\n",
       "      <td>Exon 1</td>\n",
       "      <td>(208255071, 208254939)</td>\n",
       "      <td>133</td>\n",
       "    </tr>\n",
       "    <tr>\n",
       "      <th>1</th>\n",
       "      <td>Intron 1</td>\n",
       "      <td>(208254938, 208253960)</td>\n",
       "      <td>979</td>\n",
       "    </tr>\n",
       "    <tr>\n",
       "      <th>2</th>\n",
       "      <td>Exon 2</td>\n",
       "      <td>(208253959, 208253886)</td>\n",
       "      <td>74</td>\n",
       "    </tr>\n",
       "    <tr>\n",
       "      <th>3</th>\n",
       "      <td>Intron 2</td>\n",
       "      <td>(208253885, 208251568)</td>\n",
       "      <td>2318</td>\n",
       "    </tr>\n",
       "    <tr>\n",
       "      <th>4</th>\n",
       "      <td>Exon 3</td>\n",
       "      <td>(208251567, 208251430)</td>\n",
       "      <td>138</td>\n",
       "    </tr>\n",
       "    <tr>\n",
       "      <th>5</th>\n",
       "      <td>Intron 3</td>\n",
       "      <td>(208251429, 208248661)</td>\n",
       "      <td>2769</td>\n",
       "    </tr>\n",
       "    <tr>\n",
       "      <th>6</th>\n",
       "      <td>Exon 4</td>\n",
       "      <td>(208248660, 208248369)</td>\n",
       "      <td>292</td>\n",
       "    </tr>\n",
       "    <tr>\n",
       "      <th>7</th>\n",
       "      <td>Intron 4</td>\n",
       "      <td>(208248368, 208245425)</td>\n",
       "      <td>2944</td>\n",
       "    </tr>\n",
       "    <tr>\n",
       "      <th>8</th>\n",
       "      <td>Exon 5</td>\n",
       "      <td>(208245424, 208245319)</td>\n",
       "      <td>106</td>\n",
       "    </tr>\n",
       "    <tr>\n",
       "      <th>9</th>\n",
       "      <td>Intron 5</td>\n",
       "      <td>(208245318, 208243605)</td>\n",
       "      <td>1714</td>\n",
       "    </tr>\n",
       "    <tr>\n",
       "      <th>10</th>\n",
       "      <td>Exon 6</td>\n",
       "      <td>(208243604, 208243427)</td>\n",
       "      <td>178</td>\n",
       "    </tr>\n",
       "    <tr>\n",
       "      <th>11</th>\n",
       "      <td>Intron 6</td>\n",
       "      <td>(208243426, 208242146)</td>\n",
       "      <td>1281</td>\n",
       "    </tr>\n",
       "    <tr>\n",
       "      <th>12</th>\n",
       "      <td>Exon 7</td>\n",
       "      <td>(208242145, 208241994)</td>\n",
       "      <td>152</td>\n",
       "    </tr>\n",
       "    <tr>\n",
       "      <th>13</th>\n",
       "      <td>Intron 7</td>\n",
       "      <td>(208241993, 208240004)</td>\n",
       "      <td>1990</td>\n",
       "    </tr>\n",
       "    <tr>\n",
       "      <th>14</th>\n",
       "      <td>Exon 8</td>\n",
       "      <td>(208240003, 208239863)</td>\n",
       "      <td>141</td>\n",
       "    </tr>\n",
       "    <tr>\n",
       "      <th>15</th>\n",
       "      <td>Intron 8</td>\n",
       "      <td>(208239862, 208239234)</td>\n",
       "      <td>629</td>\n",
       "    </tr>\n",
       "    <tr>\n",
       "      <th>16</th>\n",
       "      <td>Exon 9</td>\n",
       "      <td>(208239233, 208239071)</td>\n",
       "      <td>163</td>\n",
       "    </tr>\n",
       "    <tr>\n",
       "      <th>17</th>\n",
       "      <td>Intron 9</td>\n",
       "      <td>(208239070, 208237170)</td>\n",
       "      <td>1901</td>\n",
       "    </tr>\n",
       "    <tr>\n",
       "      <th>18</th>\n",
       "      <td>Exon 10</td>\n",
       "      <td>(208237169, 208236229)</td>\n",
       "      <td>941</td>\n",
       "    </tr>\n",
       "  </tbody>\n",
       "</table>\n",
       "</div>"
      ],
      "text/plain": [
       "        name                  region  region_size\n",
       "0     Exon 1  (208255071, 208254939)          133\n",
       "1   Intron 1  (208254938, 208253960)          979\n",
       "2     Exon 2  (208253959, 208253886)           74\n",
       "3   Intron 2  (208253885, 208251568)         2318\n",
       "4     Exon 3  (208251567, 208251430)          138\n",
       "5   Intron 3  (208251429, 208248661)         2769\n",
       "6     Exon 4  (208248660, 208248369)          292\n",
       "7   Intron 4  (208248368, 208245425)         2944\n",
       "8     Exon 5  (208245424, 208245319)          106\n",
       "9   Intron 5  (208245318, 208243605)         1714\n",
       "10    Exon 6  (208243604, 208243427)          178\n",
       "11  Intron 6  (208243426, 208242146)         1281\n",
       "12    Exon 7  (208242145, 208241994)          152\n",
       "13  Intron 7  (208241993, 208240004)         1990\n",
       "14    Exon 8  (208240003, 208239863)          141\n",
       "15  Intron 8  (208239862, 208239234)          629\n",
       "16    Exon 9  (208239233, 208239071)          163\n",
       "17  Intron 9  (208239070, 208237170)         1901\n",
       "18   Exon 10  (208237169, 208236229)          941"
      ]
     },
     "metadata": {},
     "output_type": "display_data"
    }
   ],
   "source": [
    "# exon-intron table\n",
    "print(f'\\nExon-intron map for {transcript_id=}:')\n",
    "display(gene_obj.exon_intron_map(transcript_id))"
   ]
  },
  {
   "cell_type": "code",
   "execution_count": 6,
   "metadata": {},
   "outputs": [
    {
     "name": "stdout",
     "output_type": "stream",
     "text": [
      "\n",
      "Exon map for transcript_id='ENST00000345146':\n"
     ]
    },
    {
     "data": {
      "text/html": [
       "<div>\n",
       "<style scoped>\n",
       "    .dataframe tbody tr th:only-of-type {\n",
       "        vertical-align: middle;\n",
       "    }\n",
       "\n",
       "    .dataframe tbody tr th {\n",
       "        vertical-align: top;\n",
       "    }\n",
       "\n",
       "    .dataframe thead th {\n",
       "        text-align: right;\n",
       "    }\n",
       "</style>\n",
       "<table border=\"1\" class=\"dataframe\">\n",
       "  <thead>\n",
       "    <tr style=\"text-align: right;\">\n",
       "      <th></th>\n",
       "      <th>exon_number</th>\n",
       "      <th>exon_region</th>\n",
       "      <th>exon_size</th>\n",
       "      <th>mRNA_NT_region</th>\n",
       "      <th>ORF_NT_region</th>\n",
       "      <th>ORF_AA_region</th>\n",
       "      <th>next_exon_frame_alignment</th>\n",
       "      <th>exon_ID</th>\n",
       "    </tr>\n",
       "  </thead>\n",
       "  <tbody>\n",
       "    <tr>\n",
       "      <th>0</th>\n",
       "      <td>1</td>\n",
       "      <td>(208255071, 208254939)</td>\n",
       "      <td>133</td>\n",
       "      <td>[1, 133]</td>\n",
       "      <td>[0, 0]</td>\n",
       "      <td>[0, 0]</td>\n",
       "      <td>0</td>\n",
       "      <td>ENSE00001908890</td>\n",
       "    </tr>\n",
       "    <tr>\n",
       "      <th>1</th>\n",
       "      <td>2</td>\n",
       "      <td>(208253959, 208253886)</td>\n",
       "      <td>74</td>\n",
       "      <td>[134, 207]</td>\n",
       "      <td>[0, 0]</td>\n",
       "      <td>[0, 0]</td>\n",
       "      <td>0</td>\n",
       "      <td>ENSE00001357891</td>\n",
       "    </tr>\n",
       "    <tr>\n",
       "      <th>2</th>\n",
       "      <td>3</td>\n",
       "      <td>(208251567, 208251430)</td>\n",
       "      <td>138</td>\n",
       "      <td>[208, 345]</td>\n",
       "      <td>[1, 122]</td>\n",
       "      <td>[1, 41]</td>\n",
       "      <td>1</td>\n",
       "      <td>ENSE00003564564</td>\n",
       "    </tr>\n",
       "    <tr>\n",
       "      <th>3</th>\n",
       "      <td>4</td>\n",
       "      <td>(208248660, 208248369)</td>\n",
       "      <td>292</td>\n",
       "      <td>[346, 637]</td>\n",
       "      <td>[123, 414]</td>\n",
       "      <td>[41, 138]</td>\n",
       "      <td>0</td>\n",
       "      <td>ENSE00000934687</td>\n",
       "    </tr>\n",
       "    <tr>\n",
       "      <th>4</th>\n",
       "      <td>5</td>\n",
       "      <td>(208245424, 208245319)</td>\n",
       "      <td>106</td>\n",
       "      <td>[638, 743]</td>\n",
       "      <td>[415, 520]</td>\n",
       "      <td>[139, 174]</td>\n",
       "      <td>2</td>\n",
       "      <td>ENSE00002416886</td>\n",
       "    </tr>\n",
       "    <tr>\n",
       "      <th>5</th>\n",
       "      <td>6</td>\n",
       "      <td>(208243604, 208243427)</td>\n",
       "      <td>178</td>\n",
       "      <td>[744, 921]</td>\n",
       "      <td>[521, 698]</td>\n",
       "      <td>[174, 233]</td>\n",
       "      <td>1</td>\n",
       "      <td>ENSE00002424476</td>\n",
       "    </tr>\n",
       "    <tr>\n",
       "      <th>6</th>\n",
       "      <td>7</td>\n",
       "      <td>(208242145, 208241994)</td>\n",
       "      <td>152</td>\n",
       "      <td>[922, 1073]</td>\n",
       "      <td>[699, 850]</td>\n",
       "      <td>[233, 284]</td>\n",
       "      <td>2</td>\n",
       "      <td>ENSE00000934684</td>\n",
       "    </tr>\n",
       "    <tr>\n",
       "      <th>7</th>\n",
       "      <td>8</td>\n",
       "      <td>(208240003, 208239863)</td>\n",
       "      <td>141</td>\n",
       "      <td>[1074, 1214]</td>\n",
       "      <td>[851, 991]</td>\n",
       "      <td>[284, 331]</td>\n",
       "      <td>2</td>\n",
       "      <td>ENSE00000934683</td>\n",
       "    </tr>\n",
       "    <tr>\n",
       "      <th>8</th>\n",
       "      <td>9</td>\n",
       "      <td>(208239233, 208239071)</td>\n",
       "      <td>163</td>\n",
       "      <td>[1215, 1377]</td>\n",
       "      <td>[992, 1154]</td>\n",
       "      <td>[331, 385]</td>\n",
       "      <td>1</td>\n",
       "      <td>ENSE00003511233</td>\n",
       "    </tr>\n",
       "    <tr>\n",
       "      <th>9</th>\n",
       "      <td>10</td>\n",
       "      <td>(208237169, 208236229)</td>\n",
       "      <td>941</td>\n",
       "      <td>[1378, 2318]</td>\n",
       "      <td>[1155, 1245]</td>\n",
       "      <td>[385, 414]</td>\n",
       "      <td>0</td>\n",
       "      <td>ENSE00000934681</td>\n",
       "    </tr>\n",
       "  </tbody>\n",
       "</table>\n",
       "</div>"
      ],
      "text/plain": [
       "   exon_number             exon_region  exon_size mRNA_NT_region  \\\n",
       "0            1  (208255071, 208254939)        133       [1, 133]   \n",
       "1            2  (208253959, 208253886)         74     [134, 207]   \n",
       "2            3  (208251567, 208251430)        138     [208, 345]   \n",
       "3            4  (208248660, 208248369)        292     [346, 637]   \n",
       "4            5  (208245424, 208245319)        106     [638, 743]   \n",
       "5            6  (208243604, 208243427)        178     [744, 921]   \n",
       "6            7  (208242145, 208241994)        152    [922, 1073]   \n",
       "7            8  (208240003, 208239863)        141   [1074, 1214]   \n",
       "8            9  (208239233, 208239071)        163   [1215, 1377]   \n",
       "9           10  (208237169, 208236229)        941   [1378, 2318]   \n",
       "\n",
       "  ORF_NT_region ORF_AA_region  next_exon_frame_alignment          exon_ID  \n",
       "0        [0, 0]        [0, 0]                          0  ENSE00001908890  \n",
       "1        [0, 0]        [0, 0]                          0  ENSE00001357891  \n",
       "2      [1, 122]       [1, 41]                          1  ENSE00003564564  \n",
       "3    [123, 414]     [41, 138]                          0  ENSE00000934687  \n",
       "4    [415, 520]    [139, 174]                          2  ENSE00002416886  \n",
       "5    [521, 698]    [174, 233]                          1  ENSE00002424476  \n",
       "6    [699, 850]    [233, 284]                          2  ENSE00000934684  \n",
       "7    [851, 991]    [284, 331]                          2  ENSE00000934683  \n",
       "8   [992, 1154]    [331, 385]                          1  ENSE00003511233  \n",
       "9  [1155, 1245]    [385, 414]                          0  ENSE00000934681  "
      ]
     },
     "metadata": {},
     "output_type": "display_data"
    }
   ],
   "source": [
    "# exon table\n",
    "print(f'\\nExon map for {transcript_id=}:')\n",
    "display(gene_obj.exon_map(transcript_id))\n",
    "\n",
    "# if (df := gene_obj.exon_map(transcript_id)) is not None:\n",
    "#     print(f\"Exon map for {gene=}, {transcript_id=}:\")\n",
    "#     display(df.style.format(formatter={\"exon_region\": lambda x: f'({x[0]:,}, {x[1]:,})'}))"
   ]
  },
  {
   "cell_type": "code",
   "execution_count": null,
   "metadata": {},
   "outputs": [],
   "source": [
    "'''\n",
    "exon map can be save to excel, csv, or html files.\n",
    "'''\n",
    "gene_obj.exon_map_to_html(transcript_id, str(report_path / f\"{gene}_{transcript_id}_exon_map.html\"))\n",
    "gene_obj.exon_map_to_excel(transcript_id, str(report_path / f\"{gene}_{transcript_id}_exon_map.xlsx\"), usr_desc={\"General\": f\"Exon table for {gene}, {transcript_id}\", \"Source\": \"gene_annotation_example.ipynb\"}, desc_sheet_pos=0)\n",
    "gene_obj.exon_map_to_csv(transcript_id, str(report_path / f\"{gene}_{transcript_id}_exon_map.csv\"))"
   ]
  },
  {
   "cell_type": "code",
   "execution_count": 7,
   "metadata": {},
   "outputs": [
    {
     "name": "stdout",
     "output_type": "stream",
     "text": [
      "transcript_id='ENST00000345146' contains 18,843 bps.\n",
      "\n",
      "rna=\n",
      "GGGTTTCTGCAGAGTCTACTTCAGAAGCGGAGGCACTGGGAGTCCGGTTTGGGATTGCCAGGCTGTGGTTGTGAGTCTGAGCTTGTGAGCGGCTGTGGCGCCCCAACTCTTCGCCAGCATATCATCCCGGCAGGCGATAAACTACATTCAGTTGAGTCTGCAAGACTGGGAGGAACTGGGGTGATAAGAAATCTATTCACTGTCAAGGTTTATTGAAGTCAAAATGTCCAAAAAAATCAGTGGCGGTTCTGTGGTAGAGATGCAAGGAGATGAAATGACACGAATCATTTGGGAATTGATTAAAGAGAAACTCATTTTTCCCTACGTGGAATTGGATCTACATAGCTATGATTTAGGCATAGAGAATCGTGATGCCACCAACGACCAAGTCACCAAGGATGCTGCAGAAGCTATAAAGAAGCATAATGTTGGCGTCAAATGTGCCACTATCACTCCTGATGAGAAGAGGGTTGAGGAGTTCAAGTTGAAACAAATGTGGAAATCACCAAATGGCACCATACGAAATATTCTGGGTGGCACGGTCTTCAGAGAAGCCATTATCTGCAAAAATATCCCCCGGCTTGTGAGTGGATGGGTAAAACCTATCATCATAGGTCGTCATGCTTATGGGGATCAATACAGAGCAACTGATTTTGTTGTTCCTGGGCCTGGAAAAGTAGAGATAACCTACACACCAAGTGACGGAACCCAAAAGGTGACATACCTGGTACATAACTTTGAAGAAGGTGGTGGTGTTGCCATGGGGATGTATAATCAAGATAAGTCAATTGAAGATTTTGCACACAGTTCCTTCCAAATGGCTCTGTCTAAGGGTTGGCCTTTGTATCTGAGCACCAAAAACACTATTCTGAAGAAATATGATGGGCGTTTTAAAGACATCTTTCAGGAGATATATGACAAGCAGTACAAGTCCCAGTTTGAAGCTCAAAAGATCTGGTATGAGCATAGGCTCATCGACGACATGGTGGCCCAAGCTATGAAATCAGAGGGAGGCTTCATCTGGGCCTGTAAAAACTATGATGGTGACGTGCAGTCGGACTCTGTGGCCCAAGGGTATGGCTCTCTCGGCATGATGACCAGCGTGCTGGTTTGTCCAGATGGCAAGACAGTAGAAGCAGAGGCTGCCCACGGGACTGTAACCCGTCACTACCGCATGTACCAGAAAGGACAGGAGACGTCCACCAATCCCATTGCTTCCATTTTTGCCTGGACCAGAGGGTTAGCCCACAGAGCAAAGCTTGATAACAATAAAGAGCTTGCCTTCTTTGCAAATGCTTTGGAAGAAGTCTCTATTGAGACAATTGAGGCTGGCTTCATGACCAAGGACTTGGCTGCTTGCATTAAAGGTTTACCCAATGTGCAACGTTCTGACTACTTGAATACATTTGAGTTCATGGATAAACTTGGAGAAAACTTGAAGATCAAACTAGCTCAGGCCAAACTTTAAGTTCATACCTGAGCTAAGAAGGATAATTGTCTTTTGGTAACTAGGTCTACAGGTTTACATTTTTCTGTGTTACACTCAAGGATAAAGGCAAAATCAATTTTGTAATTTGTTTAGAAGCCAGAGTTTATCTTTTCTATAAGTTTACAGCCTTTTTCTTATATATACAGTTATTGCCACCTTTGTGAACATGGCAAGGGACTTTTTTACAATTTTTATTTTATTTTCTAGTACCAGCCTAGGAATTCGGTTAGTACTCATTTGTATTCACTGTCACTTTTTCTCATGTTCTAATTATAAATGACCAAAATCAAGATTGCTCAAAAGGGTAAATGATAGCCACAGTATTGCTCCCTAAAATATGCATAAAGTAGAAATTCACTGCCTTCCCCTCCTGTCCATGACCTTGGGCACAGGGAAGTTCTGGTGTCATAGATATCCCGTTTTGTGAGGTAGAGCTGTGCATTAAACTTGCACATGACTGGAACGAAGTAGGAGTGCAACTCAAATGTGTTGAAGATACTGCAGTCATTTTTGTAAAGACCTTGCTGAATGTTTCCAATAGACTAAATACTGTTTAGGCCGCAGGAGAGTTTGGAATCCGGAATAAATACTACCTGGAGGTTTGTCCTCTCCATTTTTCTCTTTCTCCTCCTGGCCTGGCCTGAATATTATACTACTCTAAATAGCATATTTCATCCAAGTGCAATAATGTAAGCTGAATCTTTTTTGGACTTCTGCTGGCCTGTTTTATTTCTTTTATATAAATGTGATTTCTCAGAAATTGATATTAAACACTATCTTATCTTCTCCTGAACTGTTGATTTTAATTAAAATTAAGTGCTAATTACCA\n",
      "\n",
      "orf=\n",
      "ATGTCCAAAAAAATCAGTGGCGGTTCTGTGGTAGAGATGCAAGGAGATGAAATGACACGAATCATTTGGGAATTGATTAAAGAGAAACTCATTTTTCCCTACGTGGAATTGGATCTACATAGCTATGATTTAGGCATAGAGAATCGTGATGCCACCAACGACCAAGTCACCAAGGATGCTGCAGAAGCTATAAAGAAGCATAATGTTGGCGTCAAATGTGCCACTATCACTCCTGATGAGAAGAGGGTTGAGGAGTTCAAGTTGAAACAAATGTGGAAATCACCAAATGGCACCATACGAAATATTCTGGGTGGCACGGTCTTCAGAGAAGCCATTATCTGCAAAAATATCCCCCGGCTTGTGAGTGGATGGGTAAAACCTATCATCATAGGTCGTCATGCTTATGGGGATCAATACAGAGCAACTGATTTTGTTGTTCCTGGGCCTGGAAAAGTAGAGATAACCTACACACCAAGTGACGGAACCCAAAAGGTGACATACCTGGTACATAACTTTGAAGAAGGTGGTGGTGTTGCCATGGGGATGTATAATCAAGATAAGTCAATTGAAGATTTTGCACACAGTTCCTTCCAAATGGCTCTGTCTAAGGGTTGGCCTTTGTATCTGAGCACCAAAAACACTATTCTGAAGAAATATGATGGGCGTTTTAAAGACATCTTTCAGGAGATATATGACAAGCAGTACAAGTCCCAGTTTGAAGCTCAAAAGATCTGGTATGAGCATAGGCTCATCGACGACATGGTGGCCCAAGCTATGAAATCAGAGGGAGGCTTCATCTGGGCCTGTAAAAACTATGATGGTGACGTGCAGTCGGACTCTGTGGCCCAAGGGTATGGCTCTCTCGGCATGATGACCAGCGTGCTGGTTTGTCCAGATGGCAAGACAGTAGAAGCAGAGGCTGCCCACGGGACTGTAACCCGTCACTACCGCATGTACCAGAAAGGACAGGAGACGTCCACCAATCCCATTGCTTCCATTTTTGCCTGGACCAGAGGGTTAGCCCACAGAGCAAAGCTTGATAACAATAAAGAGCTTGCCTTCTTTGCAAATGCTTTGGAAGAAGTCTCTATTGAGACAATTGAGGCTGGCTTCATGACCAAGGACTTGGCTGCTTGCATTAAAGGTTTACCCAATGTGCAACGTTCTGACTACTTGAATACATTTGAGTTCATGGATAAACTTGGAGAAAACTTGAAGATCAAACTAGCTCAGGCCAAACTTTAA\n",
      "\n",
      "AA=\n",
      "MSKKISGGSVVEMQGDEMTRIIWELIKEKLIFPYVELDLHSYDLGIENRDATNDQVTKDAAEAIKKHNVGVKCATITPDEKRVEEFKLKQMWKSPNGTIRNILGGTVFREAIICKNIPRLVSGWVKPIIIGRHAYGDQYRATDFVVPGPGKVEITYTPSDGTQKVTYLVHNFEEGGGVAMGMYNQDKSIEDFAHSSFQMALSKGWPLYLSTKNTILKKYDGRFKDIFQEIYDKQYKSQFEAQKIWYEHRLIDDMVAQAMKSEGGFIWACKNYDGDVQSDSVAQGYGSLGMMTSVLVCPDGKTVEAEAAHGTVTRHYRMYQKGQETSTNPIASIFAWTRGLAHRAKLDNNKELAFFANALEEVSIETIEAGFMTKDLAACIKGLPNVQRSDYLNTFEFMDKLGENLKIKLAQAKL\n",
      "\n",
      "utr5=\n",
      "GGGTTTCTGCAGAGTCTACTTCAGAAGCGGAGGCACTGGGAGTCCGGTTTGGGATTGCCAGGCTGTGGTTGTGAGTCTGAGCTTGTGAGCGGCTGTGGCGCCCCAACTCTTCGCCAGCATATCATCCCGGCAGGCGATAAACTACATTCAGTTGAGTCTGCAAGACTGGGAGGAACTGGGGTGATAAGAAATCTATTCACTGTCAAGGTTTATTGAAGTCAAA\n",
      "\n",
      "utr3=\n",
      "GTTCATACCTGAGCTAAGAAGGATAATTGTCTTTTGGTAACTAGGTCTACAGGTTTACATTTTTCTGTGTTACACTCAAGGATAAAGGCAAAATCAATTTTGTAATTTGTTTAGAAGCCAGAGTTTATCTTTTCTATAAGTTTACAGCCTTTTTCTTATATATACAGTTATTGCCACCTTTGTGAACATGGCAAGGGACTTTTTTACAATTTTTATTTTATTTTCTAGTACCAGCCTAGGAATTCGGTTAGTACTCATTTGTATTCACTGTCACTTTTTCTCATGTTCTAATTATAAATGACCAAAATCAAGATTGCTCAAAAGGGTAAATGATAGCCACAGTATTGCTCCCTAAAATATGCATAAAGTAGAAATTCACTGCCTTCCCCTCCTGTCCATGACCTTGGGCACAGGGAAGTTCTGGTGTCATAGATATCCCGTTTTGTGAGGTAGAGCTGTGCATTAAACTTGCACATGACTGGAACGAAGTAGGAGTGCAACTCAAATGTGTTGAAGATACTGCAGTCATTTTTGTAAAGACCTTGCTGAATGTTTCCAATAGACTAAATACTGTTTAGGCCGCAGGAGAGTTTGGAATCCGGAATAAATACTACCTGGAGGTTTGTCCTCTCCATTTTTCTCTTTCTCCTCCTGGCCTGGCCTGAATATTATACTACTCTAAATAGCATATTTCATCCAAGTGCAATAATGTAAGCTGAATCTTTTTTGGACTTCTGCTGGCCTGTTTTATTTCTTTTATATAAATGTGATTTCTCAGAAATTGATATTAAACACTATCTTATCTTCTCCTGAACTGTTGATTTTAATTAAAATTAAGTGCTAATTACCA\n"
     ]
    }
   ],
   "source": [
    "\"\"\"\n",
    "Get sequences\n",
    "\"\"\"\n",
    "chrm_path = str(si.chromosome_path / si.get_chrm_file_name(gene_obj.chrm))\n",
    "\n",
    "transcript_seq = gene_obj.seq(transcript_id, chrm_path).upper()\n",
    "print(f\"{transcript_id=} contains {len(transcript_seq):,} bps.\")\n",
    "\n",
    "rna_seq = gene_obj.rna(transcript_id, chrm_path).upper()\n",
    "print(f\"\\nrna=\\n{rna_seq}\")\n",
    "\n",
    "orf_seq = gene_obj.ORF(transcript_id, chrm_path).upper()\n",
    "print(f\"\\norf=\\n{orf_seq}\")\n",
    "\n",
    "aa_seq = gene_obj.AA(transcript_id, chrm_path)\n",
    "print(f\"\\nAA=\\n{aa_seq}\")\n",
    "\n",
    "utr5_seq = gene_obj.UTR5(transcript_id, chrm_path).upper()\n",
    "print(f\"\\nutr5=\\n{utr5_seq}\")\n",
    "\n",
    "utr3_seq = gene_obj.UTR3(transcript_id, chrm_path).upper()\n",
    "print(f\"\\nutr3=\\n{utr3_seq}\")"
   ]
  },
  {
   "cell_type": "code",
   "execution_count": 8,
   "metadata": {},
   "outputs": [
    {
     "name": "stdout",
     "output_type": "stream",
     "text": [
      "Exon_5 sequence (Exon_5:chr2:208245424:208245319):\n",
      "TACAGAGCAACTGATTTTGTTGTTCCTGGGCCTGGAAAAGTAGAGATAACCTACACACCAAGTGACGGAACCCAAAAGGTGACATACCTGGTACATAACTTTGAAG\n",
      "106 bps.\n",
      "Intron_5 sequence (Intron_5:chr2:208245318:208243605):\n",
      "GTATGTATGACTGTAGCATAAGCTTCttttttttttaaacaaatgatttagataatatttttattgctttttttgTTAGTTATGTGACTGCCTAAAAATATAATCTGAATCTACAGTGTTTTTGCAAAACCCGAAACTTGACATAAAGAAGTAATTTGCTTCCATACCTTCCTGTGGCATGAATAAAGGCACAAAAGGGTTACCCACTTAATTGGAAATGCCTTTAGGCAAAGACAAGGAGATGATTATGCATTTATCTTAAAGCACAGAGAGAAGGTTGGCAGAAATCTGCTGTGCATGAATTATATACATTAAATATTAATATTCTCAAATCACCCAGCATATAATCCTGCCCTTTGCTCTGGTAGGGCTCTTGTATCTGGAAGAGGTTTCCTTATATATTTGCTGAAGTTTTCTTCTTGCCCTTCTGGGTATTTATCCTGTGAAAAAGTAGAACATTTGCTTTTTGCCTTTTCTTTCCCAGCTACCCTGCTACCTTTGATGGCAAATCCCACCCAAAAGTTGTTGAAATAATTAGTGGGCCCTTTTCCTTCACTATTGAAGTTGTTGAAAGCACTCACACAAACAAAAATACCCAACACTCACCTACCTTTTGTTTTTCTTGCCTCTTCCAAATAATATCTGTTGGAATCTGGTTCTGCAGGCTTCAGCACCTTTCACCCTGAACCCAAGTTAACCCTGAGCATTGGCATGGATTCAAGTTCTATCTTTAAGTAATAACAAAGTTCAATAATAGTTGTAAAACACAGTGATTACATGTAGCATAATTATTTCTACTTATTTCTACCAACTACAGTAGGAGTGCTCAGTATCCTCCAGGAGATTATAAGAATTTTCATTCAGTATTTGAAATTTAAGTTTTTCTCAATAACTGAGGATTGAGTACACCCCTAAAGTTTAAAATAGATGTTGGGAATTGTAAAGGTAGGgtgtttgtccattcttgcgttgctataaagaaatacctgaggctgcgtaagttataaagaaaagaggtttaattggctcatggttctgcaggctgtacaagcctggctccaacacctgttcctggtgagggcctcaggaagcttccaatcttggcagaaggcaaacagacaataggtgtatcacatggcaagagcgggaacaagagaaagagaagggggaggtcccagactcttaaacaaccagatttcaagtgaattaactgagcgagaactcacgtaatcaccaaaggggatggtcctaagccattcataagggatccaaccccatgttccaatctcctcccactgggccccacctccaacactgggaatcacatttcaacatgagatttggaagggacaaatatccaaaccatatcaGTATGTAAAAGAAGTTTCAAAATTATTTGCCTTTTCTTAAATGTATTTCTGGTTCATATCAGTTTTTGGCATTTCTGCATCTTCAGGATTTTAAAGACTGTATGTTTTTTCATTTCTGCTGTCCTTCCAAAACAAGTTAGAATGTCCTTATCTAGAACTGGCTTTTCTCTCATTATGTGCCTCAGAAATTTGTTGGAAACCTGTCTGGGACTTCTGAAATCTAGTCTCAGATGTGAGAGCTGAGAAGTAGGTCATTTGGTTGTGGTGGGTGATTTTAGCCTTATTACAACTACATTACATTTATTCTTCTCCCTTTTTTCCTCTCACTGGCTTCTCCTCTACAG\n",
      "1714 bps.\n"
     ]
    }
   ],
   "source": [
    "\"\"\"A sequence of a specific Exon or Intron\"\"\"\n",
    "name, number  = 'Exon', 5  # name can be either 'Intron' or 'Exon'. number is the 1-based Intron/Exon number.\n",
    "# ------------------------------------------------------------------------------\n",
    "n_seq, n_label = gene_obj.exon_intron_seq(name, number, transcript_id, chrm_path)\n",
    "print(f\"{name}_{number} sequence ({n_label}):\\n{n_seq}\\n{len(n_seq)} bps.\")\n",
    "\n",
    "name, number  = 'Intron', 5  # name can be either 'Intron' or 'Exon'. number is the 1-based Intron/Exon number.\n",
    "# ------------------------------------------------------------------------------\n",
    "n_seq, n_label = gene_obj.exon_intron_seq(name, number, transcript_id, chrm_path)\n",
    "print(f\"{name}_{number} sequence ({n_label}):\\n{n_seq}\\n{len(n_seq)} bps.\")"
   ]
  },
  {
   "cell_type": "code",
   "execution_count": 9,
   "metadata": {},
   "outputs": [
    {
     "name": "stdout",
     "output_type": "stream",
     "text": [
      "AA agrees with REST AA\n"
     ]
    }
   ],
   "source": [
    "# Optional: compare AA sequence with Ensembl REST API\n",
    "# Note: if you reeceive a \"HTTPError: 503 Server Error: Service Unavailable for url\", try to run again.\n",
    "import ensembl_rest_utils as erut\n",
    "ensb_aa = erut.REST_API().sequence_endpoint_base(transcript_id, seq_type='protein')\n",
    "if aa_seq is not None:\n",
    "    if ensb_aa == aa_seq:\n",
    "        print(\"AA agrees with REST AA\")\n",
    "    else:\n",
    "        print(\"AA and REST mismatch !!!!!!\")"
   ]
  },
  {
   "cell_type": "code",
   "execution_count": 10,
   "metadata": {},
   "outputs": [
    {
     "name": "stdout",
     "output_type": "stream",
     "text": [
      "start_codon_info=(208251551, 224)\n",
      "stop_codon_info=(208237081, 1466)\n"
     ]
    }
   ],
   "source": [
    "\"\"\" \n",
    "Start and stop codon positions.\n",
    "\"\"\"\n",
    "if (start_end_stop := gene_obj.start_and_stop_codons_pos(transcript_id)) is None:\n",
    "    raise ValueError(f\"{transcript_id=} not recognized !!\")\n",
    "start_codon_info, stop_codon_info = start_end_stop\n",
    "# each _info contains (chromosome_position_of_first_bp_of_codon, RNA_position_of_first_bp_of_codon)\n",
    "print(f\"{start_codon_info=}\\n{stop_codon_info=}\")"
   ]
  },
  {
   "cell_type": "code",
   "execution_count": 11,
   "metadata": {},
   "outputs": [
    {
     "name": "stdout",
     "output_type": "stream",
     "text": [
      "{'region': 'Exon_6', 'region_pos': 11, 'dist_from_region_boundary': (10, 167), 'segment': 'ORF', 'pos_in_segment': 531, 'NT': 'T', 'codon_number': 177, 'nt_in_codon': 3, 'codon': 'GGT', 'aa': 'G'}\n"
     ]
    }
   ],
   "source": [
    "\"\"\"\n",
    "Perform some basic queries.\n",
    "\n",
    "Query a chromosome position.\n",
    "\"\"\"\n",
    "#chrm_pos = 55_157_663  # query a chromosome position\n",
    "chrm_pos = 208_243_604-10 # query a chromosome position\n",
    "#chrm_pos = 179_148_357+800 # query a chromosome position\n",
    "# -----------------------------------------------------\n",
    "chrm_info = gene_obj.chrm_pos_info(transcript_id, chrm_pos, chrm_path)\n",
    "print(chrm_info)"
   ]
  },
  {
   "cell_type": "code",
   "execution_count": 12,
   "metadata": {},
   "outputs": [
    {
     "name": "stdout",
     "output_type": "stream",
     "text": [
      "chrm_pos=208,236,229 --> rna_pos=2,318\n"
     ]
    }
   ],
   "source": [
    "\"\"\"\n",
    "Chromosome position to RNA position\n",
    "\"\"\"\n",
    "#chrm_pos = 55_211_628  # for EGFR\n",
    "chrm_pos = 208_236_229  # for IDH1\n",
    "#chrm_pos = 179_199_690  # for PIK3CA\n",
    "# -----------------------------------------\n",
    "if (rna_pos := gene_obj.chrm_pos2rna_pos(transcript_id, chrm_pos)) is None:\n",
    "    print(f\"{chrm_pos=:,} is outside of the RNA (outside of {transcript_id} exons)\")\n",
    "else:\n",
    "    print(f\"{chrm_pos=:,} --> {rna_pos=:,}\")"
   ]
  },
  {
   "cell_type": "code",
   "execution_count": 13,
   "metadata": {},
   "outputs": [
    {
     "name": "stdout",
     "output_type": "stream",
     "text": [
      "rna_pos=685 --> chrm_p=(208245377, 'A')\n"
     ]
    }
   ],
   "source": [
    "\"\"\"\n",
    "RNA position to chromosome position    \n",
    "\"\"\"\n",
    "rna_pos: int = 685\n",
    "# ================\n",
    "chrm_p = gene_obj.rna_pos2chrm_pos(transcript_id, rna_pos, chrm_path)\n",
    "print(f\"{rna_pos=} --> {chrm_p=}\")"
   ]
  },
  {
   "cell_type": "code",
   "execution_count": 14,
   "metadata": {},
   "outputs": [
    {
     "name": "stdout",
     "output_type": "stream",
     "text": [
      "{'chrm_pos': 208245377, 'region': 'Exon_5', 'region_pos': 48, 'dist_from_region_boundary': (47, 58), 'segment': 'ORF', 'pos_in_segment': 462, 'NT': 'A', 'codon_number': 154, 'nt_in_codon': 3, 'codon': 'ATA', 'aa': 'I'}\n"
     ]
    }
   ],
   "source": [
    "\"\"\"\n",
    "RNA position to chromosome information   \n",
    "\"\"\"\n",
    "rna_pos: int = 685\n",
    "# ================\n",
    "chrm_info = gene_obj.rna_pos2chrm_info(transcript_id, rna_pos, chrm_path)\n",
    "print(chrm_info)"
   ]
  },
  {
   "cell_type": "code",
   "execution_count": 15,
   "metadata": {},
   "outputs": [
    {
     "name": "stdout",
     "output_type": "stream",
     "text": [
      "{'segment': 'ORF', 'pos_in_segment': 745, 'NT': 'A', 'codon_number': 249, 'nt_in_codon': 1, 'codon': 'AGG', 'aa': 'R'}\n"
     ]
    }
   ],
   "source": [
    "'''\n",
    "Query a position within an exon.\n",
    "'''\n",
    "exon_number = 7  # 1-based exon number\n",
    "nt_number = 47   # nucleotide 1-based number in the exon \n",
    "# -----------------------------------------------------------------------\n",
    "info = gene_obj.exon_nt_info(transcript_id, exon_number, nt_number, chrm_path)\n",
    "print(info)"
   ]
  },
  {
   "cell_type": "code",
   "execution_count": 16,
   "metadata": {},
   "outputs": [
    {
     "name": "stdout",
     "output_type": "stream",
     "text": [
      "bp #74 in exon #5 corresponds to bp #488 in the ORF.\n"
     ]
    }
   ],
   "source": [
    "# query an exon segment\n",
    "exon_number: int = 5\n",
    "bp_index_in_exon: int = 74\n",
    "# --------------------------\n",
    "if (exon_segment_info := gene_obj.exon_nt_segment(transcript_id, exon_number, bp_index_in_exon, chrm_path)) is not None:\n",
    "    print(f\"bp #{bp_index_in_exon} in exon #{exon_number} corresponds to bp #{exon_segment_info[1]:,} in the {exon_segment_info[0]}.\")\n",
    "#print(exon_segment_info)"
   ]
  },
  {
   "cell_type": "code",
   "execution_count": 17,
   "metadata": {},
   "outputs": [
    {
     "name": "stdout",
     "output_type": "stream",
     "text": [
      "{'codon': 'CGT', 'AA': 'R', 'codon_exon_pos': ['Exon_4:23', 'Exon_4:24', 'Exon_4:25'], 'codon_chromosome_pos': [208248638, 208248637, 208248636], 'mrna_pos': [368, 369, 370]}\n"
     ]
    }
   ],
   "source": [
    "'''\n",
    "Query an amino-acid position.\n",
    "\n",
    "The 'codon_exon_pos' is a list of 3 positions, each in the form <exon number>:<pos>.\n",
    "pos in the 1-based position relative to the start of exon <exon number>. The corresponding\n",
    "chromosome position is then exon_start_coordinate+m*(pos-1), where m=1 [m=-1] for genes encoded on\n",
    "the positive [negative] DNA strand (in genes encoded on the negative strand, \n",
    "exon_start_coordinate>exon_end_coordinate).\n",
    "'''\n",
    "aa_number = 49 #1028  # 163 # 78 # 397  # 1-based AA position in the ORF\n",
    "# --------------------------------------------------\n",
    "aa_info = gene_obj.aa_exon_info(transcript_id, aa_number, chrm_path)\n",
    "print(aa_info)"
   ]
  },
  {
   "cell_type": "code",
   "execution_count": 18,
   "metadata": {},
   "outputs": [
    {
     "name": "stdout",
     "output_type": "stream",
     "text": [
      "mut_id='IDH1:chr2:Missense_Mutation:208248455:C:T' --> aa_mut='E110K'\n"
     ]
    }
   ],
   "source": [
    "\"\"\"\n",
    "Converts a DNA mutation to the corresponding AA mutation.\n",
    "\"\"\"\n",
    "#mut_id = 'EGFR:chr7:Missense_Mutation:55152609:G:C'\n",
    "mut_id = 'IDH1:chr2:Missense_Mutation:208248455:C:T'\n",
    "#mut_id = 'PIK3CA:chr3:Missense_Mutation:179218306:C:A' #'PIK3CA:chr3:Missense_Mutation:179234297:A:G'\n",
    "\n",
    "mut_id_cols = ['Gene_name', 'Chromosome', 'Variant_Classification', \n",
    "               'Start_Position', 'Reference_Allele', 'Tumor_Seq_Allele2']\n",
    "mut_id_sep = ':'\n",
    "# ==================================================================================\n",
    "\n",
    "mut_info = dict(zip(mut_id_cols, mut_id.split(mut_id_sep)))\n",
    "ref_a, mut_a, pos = mut_info['Reference_Allele'], mut_info['Tumor_Seq_Allele2'], int(mut_info['Start_Position'])\n",
    "\n",
    "aa_mut = gene_obj.DNA_SNP_mut_to_AA_mut(ref_a, mut_a, pos, transcript_id, chrm_path)\n",
    "print(f\"{mut_id=} --> {aa_mut=}\")"
   ]
  },
  {
   "cell_type": "code",
   "execution_count": 19,
   "metadata": {},
   "outputs": [
    {
     "name": "stdout",
     "output_type": "stream",
     "text": [
      "aa_mut='E110K' corresponds to:\n",
      "{'AAA': {'start_pos': 208248455, 'reference_allele': 'C', 'alternative_allele': 'T'}, 'AAG': {'start_pos': 208248453, 'reference_allele': 'TTC', 'alternative_allele': 'CTT'}}.\n"
     ]
    }
   ],
   "source": [
    "\"\"\"\n",
    "Converts a AA mutation to (all possible) DNA mutation.\n",
    "\"\"\"\n",
    "dna_all_muts = gene_obj.AA_mut_to_DNA_SNP_mut(aa_mut, transcript_id, chrm_path) # type: ignore\n",
    "print(f\"{aa_mut=} corresponds to:\\n{dna_all_muts}.\")"
   ]
  },
  {
   "cell_type": "markdown",
   "metadata": {},
   "source": [
    "# Example - Specifying GFF3 file or a Corresponding DataFrame\n",
    "The `Gene_cls` loads internally the latest GFF3 file into a dataframe. This load takes few seconds to complete. \n",
    "It is possible to specify a GFF3 file, or instead to provide a dataframe of the GFF3 file, when instatntiating the annotation class.\n",
    "\n",
    "For example, in cases where annotation is needed for multiple genes, it is more efficient to load the GFF3 file into a dataframe once, and then instantiate multiple annotation classes with the dataframe. Below are some examples."
   ]
  },
  {
   "cell_type": "code",
   "execution_count": 20,
   "metadata": {},
   "outputs": [],
   "source": [
    "# loading GFF3 file into a dataframe, and returning a tuple containing it, and a subset of it, which contains only rows with Type values that are genes\n",
    "gff3_dfs = gaut.ensembl_gff3_df()  # analyzing genes, ncRNA_gene and pseudogene\n",
    "# gff3_dfs = gaut.ensembl_gff3_df(gene_type_values=['gene'])  # analyzing only genes (excluding ncRNA_gene and pseudogene). This slightly reduces processing times."
   ]
  },
  {
   "cell_type": "code",
   "execution_count": 21,
   "metadata": {},
   "outputs": [
    {
     "name": "stdout",
     "output_type": "stream",
     "text": [
      "Gene=EGFR, Gene name=EGFR, Gene ID=ENSG00000146648\n",
      "Source=Input DataFrame (ID=6066980048, size=(4105687, 9)). (Gene type DataFrame (ID=14761522384, size=(78932, 11)))\n",
      "Positive strand=True.\n",
      "Type=protein_coding, version=21.\n",
      "Description=epidermal growth factor receptor [Source:HGNC Symbol%3BAcc:HGNC:3236]\n",
      "Gene region=chr7:55,019,017-55,211,628.\n",
      "13 transcripts.\n",
      "Gene=BRCA1, Gene name=BRCA1, Gene ID=ENSG00000012048\n",
      "Source=Input DataFrame (ID=6066980048, size=(4105687, 9)). (Gene type DataFrame (ID=14761522384, size=(78932, 11)))\n",
      "Positive strand=False.\n",
      "Type=protein_coding, version=26.\n",
      "Description=BRCA1 DNA repair associated [Source:HGNC Symbol%3BAcc:HGNC:1100]\n",
      "Gene region=chr17:43,044,295-43,170,245.\n",
      "41 transcripts.\n"
     ]
    }
   ],
   "source": [
    "# now instantiating using the dataframe (much faster)\n",
    "g_a1 = gaut.Gene_cls('EGFR', gff3_dfs)\n",
    "g_a1.info()\n",
    "g_a2 = gaut.Gene_cls('BRCA1', gff3_dfs)\n",
    "g_a2.info()"
   ]
  },
  {
   "cell_type": "code",
   "execution_count": 22,
   "metadata": {},
   "outputs": [
    {
     "name": "stdout",
     "output_type": "stream",
     "text": [
      "Gene=EGFR, Gene name=EGFR, Gene ID=ENSG00000146648\n",
      "Source=Input DataFrame (ID=6066980048, size=(4105687, 9)). (Gene type DataFrame (ID=14761522384, size=(78932, 11)))\n",
      "Positive strand=True.\n",
      "Type=protein_coding, version=21.\n",
      "Description=epidermal growth factor receptor [Source:HGNC Symbol%3BAcc:HGNC:3236]\n",
      "Gene region=chr7:55,019,017-55,211,628.\n",
      "13 transcripts.\n",
      "Gene=BRCA1, Gene name=BRCA1, Gene ID=ENSG00000012048\n",
      "Source=Input DataFrame (ID=6066980048, size=(4105687, 9)). (Gene type DataFrame (ID=14761522384, size=(78932, 11)))\n",
      "Positive strand=False.\n",
      "Type=protein_coding, version=26.\n",
      "Description=BRCA1 DNA repair associated [Source:HGNC Symbol%3BAcc:HGNC:1100]\n",
      "Gene region=chr17:43,044,295-43,170,245.\n",
      "41 transcripts.\n"
     ]
    }
   ],
   "source": [
    "# Another option\n",
    "g_a1 = gaut.Gene_gff3_cls('EGFR', gff3_dfs)\n",
    "g_a1.info()\n",
    "g_a2 = gaut.Gene_gff3_cls('BRCA1', gff3_dfs)\n",
    "g_a2.info()"
   ]
  },
  {
   "cell_type": "code",
   "execution_count": 23,
   "metadata": {},
   "outputs": [
    {
     "name": "stdout",
     "output_type": "stream",
     "text": [
      "Loading /Users/yoramzarai/work/mystuff/Ramot/Projects/Cancer_mut/Data/Ensembl_gene_annotation/Homo_sapiens.GRCh38.112.gff3.gz to a dataframe...Done.\n",
      "Gene=EGFR, Gene name=EGFR, Gene ID=ENSG00000146648\n",
      "Source=/Users/yoramzarai/work/mystuff/Ramot/Projects/Cancer_mut/Data/Ensembl_gene_annotation/Homo_sapiens.GRCh38.112.gff3.gz\n",
      "Positive strand=True.\n",
      "Type=protein_coding, version=21.\n",
      "Description=epidermal growth factor receptor [Source:HGNC Symbol%3BAcc:HGNC:3236]\n",
      "Gene region=chr7:55,019,017-55,211,628.\n",
      "13 transcripts.\n"
     ]
    }
   ],
   "source": [
    "# another example is to instantiate by specifying your GFF3 file\n",
    "mygff3_file: pathlib.Path = pathlib.Path(si.ROOT_path) / 'Data' / 'Ensembl_gene_annotation' / 'Homo_sapiens.GRCh38.112.gff3.gz'\n",
    "# -----------------------------------------------------------------------------------------------------------------------------\n",
    "g_af = gaut.Gene_cls('EGFR', mygff3_file)\n",
    "g_af.info()"
   ]
  },
  {
   "cell_type": "code",
   "execution_count": 24,
   "metadata": {},
   "outputs": [
    {
     "name": "stdout",
     "output_type": "stream",
     "text": [
      "Loading /Users/yoramzarai/work/mystuff/Ramot/Projects/Cancer_mut/Data/Ensembl_gene_annotation/Homo_sapiens.GRCh38.112.gff3.gz to a dataframe...Done.\n",
      "Gene=EGFR, Gene name=EGFR, Gene ID=ENSG00000146648\n",
      "Source=/Users/yoramzarai/work/mystuff/Ramot/Projects/Cancer_mut/Data/Ensembl_gene_annotation/Homo_sapiens.GRCh38.112.gff3.gz\n",
      "Positive strand=True.\n",
      "Type=protein_coding, version=21.\n",
      "Description=epidermal growth factor receptor [Source:HGNC Symbol%3BAcc:HGNC:3236]\n",
      "Gene region=chr7:55,019,017-55,211,628.\n",
      "13 transcripts.\n"
     ]
    }
   ],
   "source": [
    "# Another option\n",
    "g_af = gaut.Gene_gff3_cls('EGFR', mygff3_file)\n",
    "g_af.info()"
   ]
  },
  {
   "cell_type": "code",
   "execution_count": 25,
   "metadata": {},
   "outputs": [
    {
     "name": "stdout",
     "output_type": "stream",
     "text": [
      "Loading GFF3 file to a dataframe...\n",
      "Instantiating...\n",
      "Gene=EGFR, Gene name=EGFR, Gene ID=ENSG00000146648\n",
      "Source=Input DataFrame (ID=13165298576, size=(3456533, 9)). (Gene type DataFrame (ID=13209463696, size=(63140, 11)))\n",
      "Positive strand=True.\n",
      "Type=protein_coding, version=21.\n",
      "Description=epidermal growth factor receptor [Source:HGNC Symbol%3BAcc:HGNC:3236]\n",
      "Gene region=chr7:55,019,017-55,211,628.\n",
      "13 transcripts.\n"
     ]
    }
   ],
   "source": [
    "# finally, you can load your GFF3 file into a dataframe, and instantiate with that dataframe (and its gene subset dataframe)\n",
    "print(\"Loading GFF3 file to a dataframe...\")\n",
    "mygff3_dfs = gaut.ensembl_gff3_df(mygff3_file)\n",
    "print(\"Instantiating...\")\n",
    "g_ad = gaut.Gene_cls('EGFR', mygff3_dfs)\n",
    "g_ad.info()"
   ]
  },
  {
   "cell_type": "code",
   "execution_count": 26,
   "metadata": {},
   "outputs": [
    {
     "name": "stdout",
     "output_type": "stream",
     "text": [
      "Gene=EGFR, Gene name=EGFR, Gene ID=ENSG00000146648\n",
      "Source=Input DataFrame (ID=13162947344, size=(3456533, 9)). (Gene type DataFrame (ID=13266962576, size=(63140, 11)))\n",
      "Positive strand=True.\n",
      "Type=protein_coding, version=21.\n",
      "Description=epidermal growth factor receptor [Source:HGNC Symbol%3BAcc:HGNC:3236]\n",
      "Gene region=chr7:55,019,017-55,211,628.\n",
      "13 transcripts.\n"
     ]
    }
   ],
   "source": [
    "# Another option\n",
    "mygff3_dfs = gaut.ensembl_gff3_df(mygff3_file)\n",
    "g_ad = gaut.Gene_gff3_cls('EGFR', mygff3_dfs)\n",
    "g_ad.info()"
   ]
  },
  {
   "cell_type": "markdown",
   "metadata": {},
   "source": [
    "# Main Interfaces"
   ]
  },
  {
   "cell_type": "code",
   "execution_count": null,
   "metadata": {},
   "outputs": [],
   "source": [
    "exon_list, intron_list = [1, 2, 3 ,4], [5, 6, 7, 8]"
   ]
  },
  {
   "cell_type": "code",
   "execution_count": null,
   "metadata": {},
   "outputs": [],
   "source": [
    "# import API\n",
    "import Gene_annotation as gaut\n",
    "\n",
    "# gene annotation object\n",
    "gene_obj = gaut.Gene_cls(gene)\n",
    "\n",
    "# info\n",
    "gene_obj.info()\n",
    "gene_obj.transcript_info(transcript_id, verbose=True)\n",
    "\n",
    "# maps\n",
    "gene_obj.exon_intron_map(transcript_id)\n",
    "gene_obj.exon_map(transcript_id)\n",
    "\n",
    "# sequences\n",
    "gene_obj.seq(transcript_id, chrm_path)\n",
    "gene_obj.rna(transcript_id, chrm_path)\n",
    "gene_obj.ORF(transcript_id, chrm_path)\n",
    "gene_obj.AA(transcript_id, chrm_path)\n",
    "gene_obj.UTR5(transcript_id, chrm_path)\n",
    "gene_obj.UTR3(transcript_id, chrm_path)\n",
    "gene_obj.exon_intron_seq(name, number, transcript_id, chrm_path)\n",
    "gene_obj.modified_transcript(exon_list, intron_list, transcript_id, chrm_path)\n",
    "\n",
    "# query\n",
    "gene_obj.chrm_pos_info(transcript_id, chrm_pos, chrm_path)\n",
    "gene_obj.rna_pos2chrm_pos(transcript_id, rna_pos, chrm_path)\n",
    "gene_obj.rna_pos2chrm_info(transcript_id, rna_pos, chrm_path)\n",
    "gene_obj.exon_nt_info(transcript_id, exon_number, nt_number, chrm_path)\n",
    "gene_obj.aa_exon_info(transcript_id, aa_number, chrm_path)\n",
    "gene_obj.DNA_SNP_mut_to_AA_mut(ref_a, mut_a, pos, transcript_id, chrm_path)\n",
    "gene_obj.AA_mut_to_DNA_SNP_mut(aa_mut, transcript_id, chrm_path)                          # type: ignore"
   ]
  }
 ],
 "metadata": {
  "kernelspec": {
   "display_name": "venv311",
   "language": "python",
   "name": "python3"
  },
  "language_info": {
   "codemirror_mode": {
    "name": "ipython",
    "version": 3
   },
   "file_extension": ".py",
   "mimetype": "text/x-python",
   "name": "python",
   "nbconvert_exporter": "python",
   "pygments_lexer": "ipython3",
   "version": "3.11.11"
  }
 },
 "nbformat": 4,
 "nbformat_minor": 2
}
