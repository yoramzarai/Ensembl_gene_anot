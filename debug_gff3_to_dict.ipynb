{
 "cells": [
  {
   "attachments": {},
   "cell_type": "markdown",
   "metadata": {},
   "source": [
    "# Debug Notebook\n",
    "\n",
    "This notebook was used to debug the annotation that is based on the GFF3 file directly (without creating the individual json files), which is now available in the file `Utils/Gene_annotation.py`"
   ]
  },
  {
   "cell_type": "code",
   "execution_count": 1,
   "metadata": {},
   "outputs": [],
   "source": [
    "'''\n",
    "Global configuration (common to all projects).\n",
    "'''\n",
    "import pandas as pd\n",
    "import numpy as np\n",
    "import os, sys, re\n",
    "import pathlib\n",
    "import pickle\n",
    "import matplotlib.pyplot as plt\n",
    "import glob\n",
    "# import subprocess\n",
    "\n",
    "# make sure PYTHONPATH is set, containing the Utils folder.\n",
    "import mysys_init as si"
   ]
  },
  {
   "cell_type": "code",
   "execution_count": 20,
   "metadata": {},
   "outputs": [],
   "source": [
    "# for chrm_file in si.chromosome_path.glob(\"*.fa\"):\n",
    "#     with open(chrm_file, 'rt') as fp:\n",
    "#         #all_rows = fp.readlines()\n",
    "#         assert len({len(x) for x in fp.readlines()[1:-1]}) == 1, f\"Not all rows in {chrm_file} have equal number of characters !!\"\n"
   ]
  },
  {
   "attachments": {},
   "cell_type": "markdown",
   "metadata": {},
   "source": [
    "# Class"
   ]
  },
  {
   "cell_type": "code",
   "execution_count": null,
   "metadata": {},
   "outputs": [],
   "source": [
    "import ensembl_gene_annotations_utils as egna\n",
    "from dataclasses import dataclass, field\n",
    "\n",
    "Ensembl_release: str = \"109\"\n",
    "# --------------------------\n",
    "\n",
    "\n",
    "GFF3_file = pathlib.Path(f\"/Users/yoramzarai/work/mystuff/Ramot/Projects/Cancer_mut/Data/Ensembl_gene_annotation/Homo_sapiens.GRCh38.{Ensembl_release}.gff3\") if sys.platform == \"darwin\" \\\n",
    "    else pathlib.Path(f\"/tamir2/yoramzar/Projects/Cancer_mut/Data/Ensembl_gene_annotation/Homo_sapiens.GRCh38.{Ensembl_release}.gff3\")\n",
    "\n",
    "\n",
    "def ensembl_gff3_df(file: pathlib.Path = GFF3_file) -> pd.DataFrame:\n",
    "     \"\"\"For users of gene annotation.\"\"\"\n",
    "     return egna.load_ensembl_human_gff3_annotation_file(file)\n",
    "\n",
    "\n",
    "@dataclass\n",
    "class Transcript_gff3_cls:\n",
    "    # dataframe (result of pd.read_csv(GFF3 file)) or a path to an Ensembl GFF3 file\n",
    "    gene: str\n",
    "    gff3_data: pathlib.Path | pd.DataFrame\n",
    "    verbose: bool = True  # set to False at instantiation to suppress prints\n",
    "\n",
    "    # these are set by the __post_init__ method.\n",
    "    gene_ID: str = ''\n",
    "    chrm: str = ''\n",
    "    rev: bool = False\n",
    "    gene_start: int = 0\n",
    "    gene_end: int = 0\n",
    "    gene_type: str = ''\n",
    "    gene_desc: str = ''\n",
    "    gene_ver: int = 0\n",
    "    transcripts: list = None \n",
    "\n",
    "    source: str = ''\n",
    "\n",
    "    transcripts_info: dict = None  # keys are transcripts, values are transcript details\n",
    "    exon_intron_maps: dict = None  # keys are transcripts, values are maps in df format\n",
    "\n",
    "    __protein_coding_labels_in_biotype: list = None\n",
    "\n",
    "    def __post_init__(self) -> None:\n",
    "        if not isinstance(self.gff3_data, pd.DataFrame):\n",
    "        #if type(self.gff3_data) is not pd.DataFrame:\n",
    "            self.source = str(self.gff3_data)\n",
    "            if self.verbose: print(f\"Loading {self.gff3_data} to a dataframe...\", end='')\n",
    "            self.gff3_data = egna.load_ensembl_human_gff3_annotation_file(self.gff3_data)\n",
    "            if self.verbose: print(\"Done.\")\n",
    "        else:\n",
    "             self.source = f'Input DataFrame (ID={id(self.gff3_data)}, size={self.gff3_data.shape}).'\n",
    "        \n",
    "        # extract gene and generate the description dictionary\n",
    "        if not (d := egna.extract_gene_dict(self.gff3_data, self.gene)):\n",
    "             raise ValueError(f\"Error in extracting the gene {self.gene} from GFF3 dataframe !! Exiting.\")\n",
    "\n",
    "        self.chrm = d['chrm']\n",
    "        self.gene_start = d['gene_start']\n",
    "        self.gene_end = d['gene_end']\n",
    "        self.rev = d['rev']\n",
    "        self.gene_ID = d['gene_ID']\n",
    "        self.gene_type = d['gene_type']\n",
    "        self.gene_desc = d['gene_desc']\n",
    "        self.gene_ver = d['gene_ver']\n",
    "        self.transcripts = d['transcripts']\n",
    "\n",
    "        if self.__protein_coding_labels_in_biotype is None:\n",
    "                # see https://www.ensembl.org/info/genome/genebuild/biotypes.html\n",
    "                self.__protein_coding_labels_in_biotype = [\n",
    "                    \"nonsense_mediated_decay\",\n",
    "                    \"protein_coding\",\n",
    "                ]\n",
    "\n",
    "        # creates transcript information for each transcript. This populates self.transcripts_info\n",
    "        #self.__gen_transcripts_info()\n",
    "\n",
    "        # creates exon-intron map for each transcript. This populates self.exon_intron_maps\n",
    "        #self.__create_exon_intron_map()\n",
    "\n",
    "        \n",
    "class Gene_cls(Transcript_gff3_cls):  # CHANGE THIS TO Gene_gff3_cls\n",
    "    def __init__(self, gene: str, gff3_file: pathlib.Path = GFF3_file, verbose: bool = True) -> None:\n",
    "        self.gene = gene\n",
    "        self.gff3_data = gff3_file\n",
    "        self.verbose = verbose\n",
    "        \n",
    "\n",
    "        super().__post_init__()\n",
    "     \n",
    "\n",
    "    def __repr__(self) -> str:\n",
    "        return f\"Gene_cls('{self.gene}')\"\n",
    "\n",
    "    def __str__(self) -> str:\n",
    "        return f\"Gene annotation class based on gene name.\\n\""
   ]
  },
  {
   "cell_type": "code",
   "execution_count": null,
   "metadata": {},
   "outputs": [],
   "source": [
    "# loading GFF3 file (for testing)\n",
    "gff3_df = ensembl_gff3_df()"
   ]
  },
  {
   "cell_type": "code",
   "execution_count": null,
   "metadata": {},
   "outputs": [],
   "source": [
    "# test\n",
    "gene: str = 'IDH1' #'ENSG00000267318'# 'PIK3CA'\n",
    "# ================\n",
    "a = Transcript_gff3_cls(gene, gff3_df)\n",
    "#a = Transcript_gff3_cls(gene, GFF3_file, verbose=False)\n",
    "#a = Gene_cls(gene)\n",
    "\n",
    "print(a.source, a.gene, a.gene_ID, a.chrm, a.gene_start, a.gene_end, a.rev, a.gene_type, a.gene_desc, a.gene_ver, len(a.transcripts), sep='\\n')\n"
   ]
  },
  {
   "cell_type": "code",
   "execution_count": null,
   "metadata": {},
   "outputs": [],
   "source": [
    "a = 'ffff'\n",
    "if type(a) is not pd.DataFrame:\n",
    "#if not isinstance(a, pd.DataFrame):\n",
    "    print('not dataframe')\n",
    "else:\n",
    "    print('dataframe')"
   ]
  },
  {
   "attachments": {},
   "cell_type": "markdown",
   "metadata": {},
   "source": [
    "# Test the (new) API"
   ]
  },
  {
   "cell_type": "code",
   "execution_count": null,
   "metadata": {},
   "outputs": [],
   "source": [
    "import Gene_annotation as gaut"
   ]
  },
  {
   "cell_type": "code",
   "execution_count": null,
   "metadata": {},
   "outputs": [],
   "source": [
    "# loading GFF3 file (for testing)\n",
    "gff3_df = gaut.ensembl_gff3_df()"
   ]
  },
  {
   "cell_type": "code",
   "execution_count": null,
   "metadata": {},
   "outputs": [],
   "source": [
    "display(gff3_df)\n",
    "d = gff3_df.query(\"Type == 'gene'\")\n",
    "display(d)\n",
    "print(d.iloc[0]['Attributes'])"
   ]
  },
  {
   "cell_type": "code",
   "execution_count": null,
   "metadata": {},
   "outputs": [],
   "source": [
    "gene: str = 'IDH1' #'ENSG00000267318'# 'PIK3CA'\n",
    "# ================\n",
    "#a = gaut.Transcript_gff3_cls(gene, gff3_df)\n",
    "#a = gaut.Transcript_gff3_cls(gene, gaut.GFF3_file, verbose=False)\n",
    "a = gaut.Gene_cls(gene)\n",
    "\n",
    "print(a.source, a.gene, a.gene_ID, a.chrm, a.gene_start, a.gene_end, a.rev, a.gene_type, a.gene_desc, a.gene_ver, len(a.transcripts), sep='\\n')\n"
   ]
  }
 ],
 "metadata": {
  "kernelspec": {
   "display_name": "venv311",
   "language": "python",
   "name": "python3"
  },
  "language_info": {
   "codemirror_mode": {
    "name": "ipython",
    "version": 3
   },
   "file_extension": ".py",
   "mimetype": "text/x-python",
   "name": "python",
   "nbconvert_exporter": "python",
   "pygments_lexer": "ipython3",
   "version": "3.11.6"
  },
  "orig_nbformat": 4
 },
 "nbformat": 4,
 "nbformat_minor": 2
}
