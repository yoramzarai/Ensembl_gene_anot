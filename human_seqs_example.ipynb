{
 "cells": [
  {
   "cell_type": "markdown",
   "metadata": {},
   "source": [
    "# Transcript Sequences Example\n",
    "We use here the cDNA/CDS/PEP files from [Ensembl](https://ftp.ensembl.org/pub/release-111/fasta/homo_sapiens/) to generate the RNA, ORF, AA, 5'UTR and 3'UTR sequences of a given transcript.\n",
    "\n",
    "One can also use the gene annotation API (see examples in `gene_annotation_example.ipynb`) or the Ensembl REST API (see examples in `Explore_ensembl_REST\\example_ensembl_rest.ipynb`) to get these transcript sequences.\n",
    "\n",
    "To get the pre-RNA sequence, see either one of the two notebooks listed above."
   ]
  },
  {
   "cell_type": "code",
   "execution_count": null,
   "metadata": {},
   "outputs": [],
   "source": [
    "import pathlib\n",
    "from Bio import SeqIO\n",
    "from requests.exceptions import HTTPError\n",
    "import mysys_init as si\n",
    "import ensembl_rest_utils as erut  # used only to get the ENSP ID of a given ENST ID"
   ]
  },
  {
   "cell_type": "code",
   "execution_count": null,
   "metadata": {},
   "outputs": [],
   "source": [
    "# the downloaded Ensembl files\n",
    "cdna_file: pathlib.Path = si.human_sequences_path / 'CDNA' / 'Homo_sapiens.GRCh38.cdna.all.fa'\n",
    "cds_file: pathlib.Path = si.human_sequences_path / 'CDS' / 'Homo_sapiens.GRCh38.cds.all.fa'\n",
    "protein_file: pathlib.Path = si.human_sequences_path / 'PEP' / 'Homo_sapiens.GRCh38.pep.all.fa'"
   ]
  },
  {
   "cell_type": "markdown",
   "metadata": {},
   "source": [
    "# Example"
   ]
  },
  {
   "cell_type": "code",
   "execution_count": null,
   "metadata": {},
   "outputs": [],
   "source": [
    "#transcript_id: str = 'ENST00000300403'  # with or without version\n",
    "transcript_id: str = 'ENST00000300403.11'  # with or without version\n",
    "# ====================================================================\n",
    "\n",
    "# cDNA (RNA sequence)\n",
    "print(f\"cDNA\\n=====\")\n",
    "try:\n",
    "    record_dict = SeqIO.index(str(cdna_file), \"fasta\")\n",
    "    ky = transcript_id if '.' in transcript_id else [x for x in record_dict.keys() if transcript_id in x][0]\n",
    "    cdna_seq_record = record_dict[ky]\n",
    "except KeyError:\n",
    "    print(f\"{transcript_id=} not found in {cdna_file}.\")\n",
    "else:\n",
    "    print(f\"Record information:\\n{cdna_seq_record}\")\n",
    "    print(f\"\\n{cdna_seq_record.id} cDNA seq:\\n{cdna_seq_record.seq}\")\n",
    "\n",
    "# CDS (ORF sequence)\n",
    "print(f\"\\nCDS\\n====\")\n",
    "try:\n",
    "    record_dict = SeqIO.index(str(cds_file), \"fasta\")\n",
    "    ky = transcript_id if '.' in transcript_id else [x for x in record_dict.keys() if transcript_id in x][0]\n",
    "    cds_seq_record = record_dict[ky]\n",
    "except KeyError:\n",
    "    print(f\"{transcript_id=} not found in {cds_file}.\")\n",
    "else:\n",
    "    print(f\"Record information:\\n{cds_seq_record}\")\n",
    "    print(f\"\\n{cds_seq_record.id} CDS seq:\\n{cds_seq_record.seq}\")\n",
    "\n",
    "    # UTRs\n",
    "    print(f\"\\nUTRs\\n====\")\n",
    "    # the 5'UTR and 3'UTR sequences can be retrieved from the cDNA and CDS sequences\n",
    "    if (index := cdna_seq_record.seq.find(cds_seq_record.seq)) == -1:\n",
    "        pass\n",
    "    else:\n",
    "        utr5_seq, utr3_seq = cdna_seq_record.seq[:index], cdna_seq_record.seq[index+len(cds_seq_record.seq):]\n",
    "        print(f\"{transcript_id} 5UTR seq:\\n{utr5_seq}\\n{transcript_id} 3UTR seq:\\n{utr3_seq}\")\n",
    "\n",
    "# Protein (AA sequence)\n",
    "print(f\"\\nProtein\\n=======\")\n",
    "try:\n",
    "    protein_id = erut.transcript_id2protein_id_with_version(transcript_id.split('.')[0])\n",
    "except HTTPError:\n",
    "    print(f\"No protein ID found for {transcript_id=}\")\n",
    "else:\n",
    "    print(f\"{protein_id=} corresponding to {transcript_id=}\")\n",
    "    try:\n",
    "        record_dict = SeqIO.index(str(protein_file), \"fasta\")\n",
    "        pp_seq_record = record_dict[protein_id]\n",
    "    except KeyError:\n",
    "        print(f\"{protein_id=} not found in {protein_file}.\")\n",
    "    else:\n",
    "        print(f\"Record information:\\n{pp_seq_record}\")\n",
    "        print(f\"\\n{pp_seq_record.id} AA seq:\\n{pp_seq_record.seq}\")\n"
   ]
  }
 ],
 "metadata": {
  "kernelspec": {
   "display_name": "venv312",
   "language": "python",
   "name": "python3"
  },
  "language_info": {
   "codemirror_mode": {
    "name": "ipython",
    "version": 3
   },
   "file_extension": ".py",
   "mimetype": "text/x-python",
   "name": "python",
   "nbconvert_exporter": "python",
   "pygments_lexer": "ipython3",
   "version": "3.12.2"
  }
 },
 "nbformat": 4,
 "nbformat_minor": 2
}
